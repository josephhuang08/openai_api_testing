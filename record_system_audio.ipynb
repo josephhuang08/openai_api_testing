{
 "cells": [
  {
   "attachments": {},
   "cell_type": "markdown",
   "metadata": {},
   "source": [
    "## Interview Assistance with ChatGPT\n",
    "### This notebook is used to test APIs and to build a prove of concept"
   ]
  },
  {
   "attachments": {},
   "cell_type": "markdown",
   "metadata": {},
   "source": [
    "The soundcard library uses pulseaudio and must be used on your local machine.  "
   ]
  },
  {
   "cell_type": "code",
   "execution_count": 2,
   "metadata": {},
   "outputs": [],
   "source": [
    "import soundcard as sc\n",
    "import soundfile as sf\n",
    "from datetime import datetime\n",
    "import openai\n",
    "\n",
    "openai.api_key = \"YOUR_OPENAI_API_KEY\""
   ]
  },
  {
   "attachments": {},
   "cell_type": "markdown",
   "metadata": {},
   "source": [
    "The duration of the recording is a constant for testing. In pratical, this should be dynamic using a good implementation method.  \n",
    "  \n",
    "According to the Nyquist-Shannon theorem, the sample rate should be at least two times the highest frequency you intend to capture.  \n",
    "By using the standard sample rate of 44.1 kHz, you’ll perfectly record frequencies slightly higher than 20,000 Hz, which is the highest frequency level humans can hear.  "
   ]
  },
  {
   "cell_type": "code",
   "execution_count": 14,
   "metadata": {},
   "outputs": [],
   "source": [
    "# Set the duration of the recording in seconds\n",
    "RECORD_SECONDS = 5\n",
    "# Set the sample rate\n",
    "SR = 44100"
   ]
  },
  {
   "attachments": {},
   "cell_type": "markdown",
   "metadata": {},
   "source": [
    "Loopback enables allows to record sounds produced by our system as if they were being redirected into the microphone.  \n",
    "In other words, a virtual microphones that record the output of a speaker."
   ]
  },
  {
   "cell_type": "code",
   "execution_count": 4,
   "metadata": {},
   "outputs": [],
   "source": [
    "# get a list of all loopback devices (devices that record system audio):\n",
    "lb_devices = sc.all_microphones(include_loopback=True)"
   ]
  },
  {
   "cell_type": "code",
   "execution_count": 30,
   "metadata": {},
   "outputs": [
    {
     "name": "stdout",
     "output_type": "stream",
     "text": [
      "0: MSI G241 (HD Audio Driver for Display Audio)\n",
      "1: AI Noise-cancelling Output (ASUS Utility)\n",
      "2: Headphones (Realtek(R) Audio)\n",
      "3: Speakers (Realtek(R) Audio)\n",
      "4: Microphone (Realtek(R) Audio)\n",
      "5: Microphone Array (Realtek(R) Audio)\n",
      "6: AI Noise-cancelling Input (ASUS Utility)\n"
     ]
    }
   ],
   "source": [
    "#print out the avaiable loopback devices\n",
    "for i in range(len(lb_devices)):\n",
    "    try:\n",
    "        print(f\"{i}: {lb_devices[i].name}\")\n",
    "    except Exception as e:\n",
    "        print(e)"
   ]
  },
  {
   "attachments": {},
   "cell_type": "markdown",
   "metadata": {},
   "source": [
    "After testing several different loopback devices, some does not work as intended and will stop recording with no error message.  \n",
    "Try choosing Headphones (Realtek(R) Audio).  "
   ]
  },
  {
   "cell_type": "code",
   "execution_count": 31,
   "metadata": {},
   "outputs": [],
   "source": [
    "# select the correct loopback device\n",
    "lb_device = lb_devices[2]"
   ]
  },
  {
   "cell_type": "code",
   "execution_count": 34,
   "metadata": {},
   "outputs": [
    {
     "name": "stdout",
     "output_type": "stream",
     "text": [
      "Recording system audio...\n",
      "Done...\n"
     ]
    }
   ],
   "source": [
    "# recording\n",
    "print(\"Recording system audio...\")\n",
    "data = lb_device.record(numframes = RECORD_SECONDS * SR, samplerate= SR)\n",
    "print(\"Done...\")"
   ]
  },
  {
   "cell_type": "code",
   "execution_count": 35,
   "metadata": {},
   "outputs": [],
   "source": [
    "# Set the filename using the date time\n",
    "now = datetime.now().strftime(\"%m-%d_%H-%M\")\n",
    "file_name = f\"q_{now}.wav\"\n",
    "# write the recorded data to a WAV file\n",
    "sf.write(file_name, data, SR)  "
   ]
  },
  {
   "attachments": {},
   "cell_type": "markdown",
   "metadata": {},
   "source": [
    "To open the audo file you must download ffmepg.  \n",
    "download: https://ffmpeg.org/download.html  \n",
    "how to: https://phoenixnap.com/kb/ffmpeg-windows\n",
    "\n",
    "Other functionalities and implementations of the whisper API is worth reading.  \n",
    "whisper github: https://github.com/openai/whisper  \n",
    "  \n",
    "sorce of sample interview question: https://www.youtube.com/watch?v=GJdiM-muYqc"
   ]
  },
  {
   "cell_type": "code",
   "execution_count": null,
   "metadata": {},
   "outputs": [],
   "source": [
    "audio_file = open(file_name, \"rb\")\n",
    "# audio_file = open(\"sample_interview_question.wav\", \"rb\")\n",
    "# transcribe the auido file with whisper API\n",
    "transcript = openai.Audio.translate(\"whisper-1\", audio_file)\n",
    "print(transcript[\"text\"])"
   ]
  },
  {
   "attachments": {},
   "cell_type": "markdown",
   "metadata": {},
   "source": [
    "Which system prompt to use to get better results. Or are there other ways to optimize the response from the models?"
   ]
  },
  {
   "cell_type": "code",
   "execution_count": null,
   "metadata": {},
   "outputs": [],
   "source": [
    "# prompt the model with the transcribed text and get the responce\n",
    "responce = openai.ChatCompletion.create(\n",
    "  model=\"gpt-3.5-turbo\",\n",
    "  messages=[\n",
    "        {\"role\": \"system\", \"content\": \"You are in a job or technical interview. Provide bullet point answers with a short explaination of reasoning.\"},\n",
    "        {\"role\": \"user\", \"content\": transcript[\"text\"]},\n",
    "    ]\n",
    ")\n",
    "print(responce[\"choices\"][0][\"message\"][\"content\"])"
   ]
  },
  {
   "attachments": {},
   "cell_type": "markdown",
   "metadata": {},
   "source": [
    "### Useful resources\n",
    "Whisper API - Python and Gradio Tutorial: https://www.youtube.com/watch?v=Si0vFx_dJ5Y\n"
   ]
  }
 ],
 "metadata": {
  "kernelspec": {
   "display_name": "Python 3",
   "language": "python",
   "name": "python3"
  },
  "language_info": {
   "codemirror_mode": {
    "name": "ipython",
    "version": 3
   },
   "file_extension": ".py",
   "mimetype": "text/x-python",
   "name": "python",
   "nbconvert_exporter": "python",
   "pygments_lexer": "ipython3",
   "version": "3.10.4"
  },
  "orig_nbformat": 4
 },
 "nbformat": 4,
 "nbformat_minor": 2
}
